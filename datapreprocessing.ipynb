{
 "cells": [
  {
   "cell_type": "code",
   "execution_count": 1,
   "metadata": {},
   "outputs": [],
   "source": [
    "import cv2\n",
    "import numpy as np\n",
    "import matplotlib.pyplot as plt"
   ]
  },
  {
   "cell_type": "code",
   "execution_count": 2,
   "metadata": {},
   "outputs": [],
   "source": [
    "trainX, trainY = np.load('x_train.npy'), np.load('y_train.npy')"
   ]
  },
  {
   "cell_type": "code",
   "execution_count": 15,
   "metadata": {},
   "outputs": [],
   "source": [
    "count = 0\n",
    "for i in range(train_X_filtered.shape[0]):\n",
    "    if count >= 25:\n",
    "        break\n",
    "    img  = cv2.cvtColor(train_X_filtered[i], cv2.COLOR_RGB2HLS)\n",
    "    Lchanneld = img[:,:,1]\n",
    "    lvalueld =cv2.mean(Lchanneld)[0]\n",
    "    if lvalueld < 50:\n",
    "        imgplot = plt.imshow(train_X_filtered[i]/255)\n",
    "        print(lvalueld)\n",
    "        plt.subplot(5, 5, 1 + count)\n",
    "        plt.axis('off')\n",
    "        plt.imshow(trainX[i])\n",
    "        count += 1\n",
    "        \n",
    "plt.show()"
   ]
  },
  {
   "cell_type": "code",
   "execution_count": 12,
   "metadata": {},
   "outputs": [],
   "source": [
    "train_X_filtered = []\n",
    "train_Y_filtered = []\n",
    "for i in range(trainX.shape[0]):\n",
    "    image32 = cv2.resize(trainX[i], (32,32), interpolation = cv2.INTER_AREA)\n",
    "    img  = cv2.cvtColor(image32, cv2.COLOR_RGB2HLS)\n",
    "    Lchanneld = img[:,:,1]\n",
    "    lvalueld =cv2.mean(Lchanneld)[0]\n",
    "    if lvalueld > 50:\n",
    "        train_X_filtered.append(image32)\n",
    "        train_Y_filtered.append(trainY[i])\n",
    "        \n"
   ]
  },
  {
   "cell_type": "code",
   "execution_count": 13,
   "metadata": {},
   "outputs": [],
   "source": [
    "train_X_filtered = np.array(train_X_filtered)"
   ]
  },
  {
   "cell_type": "code",
   "execution_count": 14,
   "metadata": {},
   "outputs": [],
   "source": [
    "train_Y_filtered = np.array(train_Y_filtered)"
   ]
  },
  {
   "cell_type": "code",
   "execution_count": 10,
   "metadata": {},
   "outputs": [
    {
     "data": {
      "text/plain": [
       "71492"
      ]
     },
     "execution_count": 10,
     "metadata": {},
     "output_type": "execute_result"
    }
   ],
   "source": [
    "len(train_Y_filtered)"
   ]
  },
  {
   "cell_type": "code",
   "execution_count": 16,
   "metadata": {},
   "outputs": [
    {
     "data": {
      "text/plain": [
       "(71492, 32, 32, 3)"
      ]
     },
     "execution_count": 16,
     "metadata": {},
     "output_type": "execute_result"
    }
   ],
   "source": [
    "train_X_filtered.shape"
   ]
  },
  {
   "cell_type": "code",
   "execution_count": 17,
   "metadata": {},
   "outputs": [],
   "source": [
    "np.save('trainX_32_filtered.npy', train_X_filtered)\n",
    "np.save('trainY_32_filtered.npy', train_Y_filtered)"
   ]
  },
  {
   "cell_type": "code",
   "execution_count": 1,
   "metadata": {},
   "outputs": [
    {
     "name": "stdout",
     "output_type": "stream",
     "text": [
      "WARNING:tensorflow:No training configuration found in the save file, so the model was *not* compiled. Compile it manually.\n"
     ]
    }
   ],
   "source": [
    "from numpy import zeros\n",
    "from numpy import ones\n",
    "from numpy.random import randn\n",
    "from numpy.random import randint\n",
    "from keras.datasets.cifar10 import load_data\n",
    "from keras.optimizers import Adam\n",
    "from keras.models import Model\n",
    "from keras.layers import Input\n",
    "from keras.layers import Dense\n",
    "from keras.layers import Reshape\n",
    "from keras.layers import Flatten\n",
    "from keras.layers import Conv2D\n",
    "from keras.layers import Conv2DTranspose\n",
    "from keras.layers import LeakyReLU\n",
    "from keras.layers import ReLU\n",
    "from keras.layers import Dropout\n",
    "from keras.layers import Embedding\n",
    "from keras.layers import Concatenate\n",
    "from keras.layers import BatchNormalization\n",
    "\n",
    "from matplotlib import pyplot as plt\n",
    "\n",
    "from numpy import asarray\n",
    "from numpy.random import randn\n",
    "from numpy.random import randint\n",
    "from keras.models import load_model\n",
    "import numpy as np\n",
    "\n",
    "def generate_latent_points(latent_dim, n_samples, n_classes=43):\n",
    "\t# generate points in the latent space\n",
    "\tx_input = randn(latent_dim * n_samples)\n",
    "\t# reshape into a batch of inputs for the network\n",
    "\tz_input = x_input.reshape(n_samples, latent_dim)\n",
    "\t# generate labels\n",
    "\tlabels = randint(0, n_classes, n_samples)\n",
    "\treturn [z_input, labels]\n",
    "\n",
    "model = load_model('traffic_signs_64_10epochs.h5')\n",
    "\n",
    "# generate multiple images\n",
    "\n",
    "latent_points, labels = generate_latent_points(100, 100)\n",
    "# specify labels - generate 10 sets of labels each gping from 0 to 9\n",
    "labels = asarray([x for _ in range(10) for x in range(10)])\n",
    "# generate images\n",
    "X  = model.predict([latent_points, labels])\n",
    "# scale from [-1,1] to [0,1]\n",
    "X = (X + 1) / 2.0\n",
    "X = (X*255).astype(np.uint8)\n",
    "# plot the result (10 sets of images, all images in a column should be of same class in the plot)\n",
    "# Plot generated images \n",
    "def show_plot(examples, n):\n",
    "\tfor i in range(n * n):\n",
    "\t\tplt.subplot(n, n, 1 + i)\n",
    "\t\tplt.axis('off')\n",
    "\t\tplt.imshow(examples[i, :, :, :])\n",
    "\tplt.show()\n",
    "    \n",
    "show_plot(X, 10)"
   ]
  },
  {
   "cell_type": "code",
   "execution_count": 1,
   "metadata": {},
   "outputs": [
    {
     "name": "stdout",
     "output_type": "stream",
     "text": [
      "2.9.0\n"
     ]
    }
   ],
   "source": [
    "import keras\n",
    "\n",
    "print(keras.__version__)"
   ]
  },
  {
   "cell_type": "code",
   "execution_count": null,
   "metadata": {},
   "outputs": [],
   "source": []
  }
 ],
 "metadata": {
  "kernelspec": {
   "display_name": "asm1",
   "language": "python",
   "name": "asm1"
  },
  "language_info": {
   "codemirror_mode": {
    "name": "ipython",
    "version": 3
   },
   "file_extension": ".py",
   "mimetype": "text/x-python",
   "name": "python",
   "nbconvert_exporter": "python",
   "pygments_lexer": "ipython3",
   "version": "3.9.13"
  },
  "orig_nbformat": 4
 },
 "nbformat": 4,
 "nbformat_minor": 2
}
